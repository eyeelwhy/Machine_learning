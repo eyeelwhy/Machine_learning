{
 "cells": [
  {
   "cell_type": "markdown",
   "id": "7167135c-2eff-4c5f-8283-49a283fda66f",
   "metadata": {},
   "source": [
    "## Парсинг JSON-файлов"
   ]
  },
  {
   "cell_type": "markdown",
   "id": "f3b2b0d8-c537-453c-8da5-22542b81d1da",
   "metadata": {},
   "source": [
    "### 1. Подключение библиотек"
   ]
  },
  {
   "cell_type": "code",
   "execution_count": 32,
   "id": "2db1dcae-bf76-4540-9dfc-43bbe42be5a1",
   "metadata": {},
   "outputs": [],
   "source": [
    "import pandas as pd\n",
    "import json\n",
    "import os"
   ]
  },
  {
   "cell_type": "markdown",
   "id": "64522d44-fda9-482d-8570-be602cc6022d",
   "metadata": {},
   "source": [
    "### 2. Получение данных"
   ]
  },
  {
   "cell_type": "code",
   "execution_count": 35,
   "id": "7157d186-a025-4fed-90a5-56bf9b3f13f5",
   "metadata": {},
   "outputs": [],
   "source": [
    "result_list = {'title': [], 'namecompany': [], 'description': [], 'rating': [], 'field': [], 'date': [], 'textpub': []}"
   ]
  },
  {
   "cell_type": "code",
   "execution_count": 37,
   "id": "ee202954-65a2-45d4-b43b-fc94d716a01d",
   "metadata": {},
   "outputs": [],
   "source": [
    "company_list = {'namecompany' : [], 'description' : []}"
   ]
  },
  {
   "cell_type": "code",
   "execution_count": 39,
   "id": "fedf3821-710e-44b9-b1fa-5e0d4c0e4f7b",
   "metadata": {},
   "outputs": [],
   "source": [
    "dir_json_files = 'Data/'"
   ]
  },
  {
   "cell_type": "code",
   "execution_count": 41,
   "id": "d10832fa-b3c6-40f9-8049-ec4b9008d298",
   "metadata": {},
   "outputs": [],
   "source": [
    "dir_company_json = dir_json_files + 'company.json'"
   ]
  },
  {
   "cell_type": "code",
   "execution_count": 43,
   "id": "37b061c0-bd98-470e-8b6d-d5e7c98bb9d0",
   "metadata": {},
   "outputs": [],
   "source": [
    "brak_json = []"
   ]
  },
  {
   "cell_type": "code",
   "execution_count": 45,
   "id": "4f4e72b8-7334-4ebe-b5b6-ccc031be6779",
   "metadata": {},
   "outputs": [],
   "source": [
    "json_files = os.listdir(dir_json_files)"
   ]
  },
  {
   "cell_type": "code",
   "execution_count": 47,
   "id": "552b6a8c-45af-4fd0-9bec-1387b6939388",
   "metadata": {},
   "outputs": [],
   "source": [
    "json_files.remove('company.json')"
   ]
  },
  {
   "cell_type": "code",
   "execution_count": 49,
   "id": "90814559-6005-492e-9599-5cd31938d33b",
   "metadata": {},
   "outputs": [
    {
     "data": {
      "text/plain": [
       "['Cybersport.Metaratings.json',\n",
       " 'ESforce Holding.json',\n",
       " 'Gett.json',\n",
       " 'Goose Gaming.json',\n",
       " 'MMA.Metaratings.json',\n",
       " 'skillbox.json',\n",
       " 'Vinci Agency.json',\n",
       " 'Гэллэри Сервис.json',\n",
       " 'Здоровье.ру.json',\n",
       " 'Иннотех.json',\n",
       " 'Проект по использованию технологий компьютерного зрения на базе искусственного интеллекта для анализа медицинских изображений.json',\n",
       " 'Промобот.json',\n",
       " 'Студия Артемия Лебедева.json',\n",
       " 'Федерация креативных индустрий.json']"
      ]
     },
     "execution_count": 49,
     "metadata": {},
     "output_type": "execute_result"
    }
   ],
   "source": [
    "json_files"
   ]
  },
  {
   "cell_type": "code",
   "execution_count": 51,
   "id": "0be77e3d-0b6e-442f-9c23-3891f35de8f3",
   "metadata": {},
   "outputs": [],
   "source": [
    "company_json = []\n",
    "with open(dir_company_json, 'r', encoding='UTF-8') as file:\n",
    "    company_json = json.load(file)"
   ]
  },
  {
   "cell_type": "code",
   "execution_count": 53,
   "id": "afb19b2c-4eb3-4867-88e1-df6209c8c809",
   "metadata": {},
   "outputs": [],
   "source": [
    "def find_company(name_file: str) -> str:\n",
    "    for item in company_json:\n",
    "        if item['namecompany'] == name_file.replace('.json', ''):\n",
    "            return item['namecompany'], item['description']"
   ]
  },
  {
   "cell_type": "code",
   "execution_count": 55,
   "id": "44667adc-bb88-4200-9509-a9b11ff829b6",
   "metadata": {},
   "outputs": [],
   "source": [
    "def add_data_to_dict(name_file: str, data: dict) -> None:\n",
    "    for item in range(len(data['refs'])):\n",
    "        if data['refs'][item] == None:\n",
    "            continue\n",
    "            \n",
    "        if data['info'] != None:\n",
    "            result_list['title'].append(None)\n",
    "            result_list['rating'].append(data['info']['rate'])\n",
    "            result_list['field'].append(', '.join(data['info']['industries']))\n",
    "    \n",
    "        else:\n",
    "            [result_list[i].append(None) for i in ['title', 'rating', 'field']]\n",
    "\n",
    "        company, description = find_company(name_file)\n",
    "        result_list['namecompany'].append(company)\n",
    "        result_list['description'].append(description)\n",
    "        date_pub = f'{data['refs'][item][1]['day']} {data['refs'][item][1]['month']} {data['refs'][item][1]['time']}'\n",
    "        result_list['date'].append(date_pub)\n",
    "        text_pub = ''.join(data['refs'][item][0]).replace('\\n', ' ').replace('\\t', ' ').replace('\\xa0', ' ').replace('\\u200e', ' ').replace('\\r', ' ')\n",
    "        result_list['textpub'].append(text_pub)\n",
    "    "
   ]
  },
  {
   "cell_type": "code",
   "execution_count": 57,
   "id": "e279c945-b806-4d30-beeb-cbd3189ffc22",
   "metadata": {},
   "outputs": [],
   "source": [
    "for json_file in json_files:\n",
    "    with open(dir_json_files + json_file, 'r', encoding='UTF-8') as file:\n",
    "        try:    \n",
    "            data_json = json.load(file)\n",
    "            add_data_to_dict(json_file, data_json)\n",
    "        \n",
    "        except Exception as e:\n",
    "            brak_json.append(json_file)"
   ]
  },
  {
   "cell_type": "code",
   "execution_count": 58,
   "id": "3333b214-d080-476e-850f-4ec7194fda70",
   "metadata": {},
   "outputs": [
    {
     "data": {
      "text/plain": [
       "[]"
      ]
     },
     "execution_count": 58,
     "metadata": {},
     "output_type": "execute_result"
    }
   ],
   "source": [
    "brak_json"
   ]
  },
  {
   "cell_type": "code",
   "execution_count": 61,
   "id": "46eca381-9d50-4e38-880d-3c0d057ca35d",
   "metadata": {},
   "outputs": [
    {
     "name": "stdout",
     "output_type": "stream",
     "text": [
      "Количество значений в: \n",
      "title - 1112\n",
      "namecompany - 1112\n",
      "description - 1112\n",
      "rating - 1112\n",
      "field - 1112\n",
      "date - 1112\n",
      "textpub - 1112\n"
     ]
    }
   ],
   "source": [
    "print(\"Количество значений в: \")\n",
    "for i in result_list:\n",
    "    print( i + \" - \" + str(len(result_list[i])))"
   ]
  },
  {
   "cell_type": "markdown",
   "id": "3042181b-dda8-421d-9878-b23b42546783",
   "metadata": {},
   "source": [
    "### 3. Создание датасета и сохранение данных"
   ]
  },
  {
   "cell_type": "code",
   "execution_count": 64,
   "id": "7b8d4093-f82d-4dae-ae86-36d9b0a6eaa7",
   "metadata": {},
   "outputs": [],
   "source": [
    "file_name = 'dataset_json.csv'\n",
    "df = pd.DataFrame(data=result_list)"
   ]
  },
  {
   "cell_type": "code",
   "execution_count": 66,
   "id": "7c47e8db-623d-4aa2-9d71-9cc9ab33d9f9",
   "metadata": {},
   "outputs": [
    {
     "data": {
      "text/html": [
       "<div>\n",
       "<style scoped>\n",
       "    .dataframe tbody tr th:only-of-type {\n",
       "        vertical-align: middle;\n",
       "    }\n",
       "\n",
       "    .dataframe tbody tr th {\n",
       "        vertical-align: top;\n",
       "    }\n",
       "\n",
       "    .dataframe thead th {\n",
       "        text-align: right;\n",
       "    }\n",
       "</style>\n",
       "<table border=\"1\" class=\"dataframe\">\n",
       "  <thead>\n",
       "    <tr style=\"text-align: right;\">\n",
       "      <th></th>\n",
       "      <th>title</th>\n",
       "      <th>namecompany</th>\n",
       "      <th>description</th>\n",
       "      <th>rating</th>\n",
       "      <th>field</th>\n",
       "      <th>date</th>\n",
       "      <th>textpub</th>\n",
       "    </tr>\n",
       "  </thead>\n",
       "  <tbody>\n",
       "    <tr>\n",
       "      <th>0</th>\n",
       "      <td>None</td>\n",
       "      <td>Cybersport.Metaratings</td>\n",
       "      <td>Информационный сайт, который ежедневно публику...</td>\n",
       "      <td>NaN</td>\n",
       "      <td>None</td>\n",
       "      <td>8 декабря 09:30</td>\n",
       "      <td>7 декабря состоялась церемония награждения лау...</td>\n",
       "    </tr>\n",
       "    <tr>\n",
       "      <th>1</th>\n",
       "      <td>None</td>\n",
       "      <td>ESforce Holding</td>\n",
       "      <td>Одна из крупнейших киберспортивных организаций...</td>\n",
       "      <td>NaN</td>\n",
       "      <td>None</td>\n",
       "      <td>8 декабря 09:30</td>\n",
       "      <td>7 декабря состоялась церемония награждения лау...</td>\n",
       "    </tr>\n",
       "    <tr>\n",
       "      <th>2</th>\n",
       "      <td>None</td>\n",
       "      <td>ESforce Holding</td>\n",
       "      <td>Одна из крупнейших киберспортивных организаций...</td>\n",
       "      <td>NaN</td>\n",
       "      <td>None</td>\n",
       "      <td>29 июля 13:50</td>\n",
       "      <td>Из совместного исследования издателя компьютер...</td>\n",
       "    </tr>\n",
       "    <tr>\n",
       "      <th>3</th>\n",
       "      <td>None</td>\n",
       "      <td>ESforce Holding</td>\n",
       "      <td>Одна из крупнейших киберспортивных организаций...</td>\n",
       "      <td>NaN</td>\n",
       "      <td>None</td>\n",
       "      <td>9 июля 09:33</td>\n",
       "      <td>По статистике The Esports Observer за I полови...</td>\n",
       "    </tr>\n",
       "    <tr>\n",
       "      <th>4</th>\n",
       "      <td>None</td>\n",
       "      <td>ESforce Holding</td>\n",
       "      <td>Одна из крупнейших киберспортивных организаций...</td>\n",
       "      <td>NaN</td>\n",
       "      <td>None</td>\n",
       "      <td>11 апреля 12:43</td>\n",
       "      <td>Компании SuperData Research и PayPal провели с...</td>\n",
       "    </tr>\n",
       "  </tbody>\n",
       "</table>\n",
       "</div>"
      ],
      "text/plain": [
       "  title             namecompany  \\\n",
       "0  None  Cybersport.Metaratings   \n",
       "1  None         ESforce Holding   \n",
       "2  None         ESforce Holding   \n",
       "3  None         ESforce Holding   \n",
       "4  None         ESforce Holding   \n",
       "\n",
       "                                         description  rating field  \\\n",
       "0  Информационный сайт, который ежедневно публику...     NaN  None   \n",
       "1  Одна из крупнейших киберспортивных организаций...     NaN  None   \n",
       "2  Одна из крупнейших киберспортивных организаций...     NaN  None   \n",
       "3  Одна из крупнейших киберспортивных организаций...     NaN  None   \n",
       "4  Одна из крупнейших киберспортивных организаций...     NaN  None   \n",
       "\n",
       "              date                                            textpub  \n",
       "0  8 декабря 09:30  7 декабря состоялась церемония награждения лау...  \n",
       "1  8 декабря 09:30  7 декабря состоялась церемония награждения лау...  \n",
       "2    29 июля 13:50  Из совместного исследования издателя компьютер...  \n",
       "3     9 июля 09:33  По статистике The Esports Observer за I полови...  \n",
       "4  11 апреля 12:43  Компании SuperData Research и PayPal провели с...  "
      ]
     },
     "execution_count": 66,
     "metadata": {},
     "output_type": "execute_result"
    }
   ],
   "source": [
    "df.head()"
   ]
  },
  {
   "cell_type": "code",
   "execution_count": 68,
   "id": "9e317e21-4f58-4ef1-8815-245b1a27e2c5",
   "metadata": {},
   "outputs": [
    {
     "name": "stdout",
     "output_type": "stream",
     "text": [
      "<class 'pandas.core.frame.DataFrame'>\n",
      "RangeIndex: 1112 entries, 0 to 1111\n",
      "Data columns (total 7 columns):\n",
      " #   Column       Non-Null Count  Dtype  \n",
      "---  ------       --------------  -----  \n",
      " 0   title        0 non-null      object \n",
      " 1   namecompany  1112 non-null   object \n",
      " 2   description  1112 non-null   object \n",
      " 3   rating       293 non-null    float64\n",
      " 4   field        293 non-null    object \n",
      " 5   date         1112 non-null   object \n",
      " 6   textpub      1112 non-null   object \n",
      "dtypes: float64(1), object(6)\n",
      "memory usage: 60.9+ KB\n"
     ]
    }
   ],
   "source": [
    "df.info()"
   ]
  },
  {
   "cell_type": "markdown",
   "id": "74c3027c-312a-44ec-9fb1-ed593b62b247",
   "metadata": {},
   "source": [
    "### Вывод"
   ]
  },
  {
   "cell_type": "code",
   "execution_count": null,
   "id": "04244513-910e-47b7-9cf0-346004a7efba",
   "metadata": {},
   "outputs": [],
   "source": [
    "Мы получили данные из JSON-файлов. Удалили company.json из-за"
   ]
  },
  {
   "cell_type": "code",
   "execution_count": null,
   "id": "e6977dcb-4976-4b73-a95d-5b432a2209c0",
   "metadata": {},
   "outputs": [],
   "source": []
  },
  {
   "cell_type": "code",
   "execution_count": null,
   "id": "b173a840-9522-4a5e-8cf8-d14d391a09df",
   "metadata": {},
   "outputs": [],
   "source": []
  },
  {
   "cell_type": "code",
   "execution_count": null,
   "id": "20e1123e-56de-445e-84dc-dd1906f51d47",
   "metadata": {},
   "outputs": [],
   "source": []
  },
  {
   "cell_type": "code",
   "execution_count": null,
   "id": "340a1ee9-80e7-4d9c-84ac-3932c38e5463",
   "metadata": {},
   "outputs": [],
   "source": []
  },
  {
   "cell_type": "code",
   "execution_count": null,
   "id": "54f8b50e-c2db-4688-880f-eaac2ccdc3db",
   "metadata": {},
   "outputs": [],
   "source": []
  },
  {
   "cell_type": "code",
   "execution_count": null,
   "id": "2e753516-9d88-47f0-84eb-b8ea1707966b",
   "metadata": {},
   "outputs": [],
   "source": []
  },
  {
   "cell_type": "code",
   "execution_count": null,
   "id": "ba3eb9af-48ab-4223-b0e5-a09bc98728a5",
   "metadata": {},
   "outputs": [],
   "source": []
  },
  {
   "cell_type": "code",
   "execution_count": null,
   "id": "18fc9901-779f-49b8-a0d1-43f355259d4d",
   "metadata": {},
   "outputs": [],
   "source": []
  },
  {
   "cell_type": "code",
   "execution_count": null,
   "id": "ae1193c9-fbb5-4278-869f-a077d4eb7017",
   "metadata": {},
   "outputs": [],
   "source": []
  }
 ],
 "metadata": {
  "kernelspec": {
   "display_name": "Python [conda env:base] *",
   "language": "python",
   "name": "conda-base-py"
  },
  "language_info": {
   "codemirror_mode": {
    "name": "ipython",
    "version": 3
   },
   "file_extension": ".py",
   "mimetype": "text/x-python",
   "name": "python",
   "nbconvert_exporter": "python",
   "pygments_lexer": "ipython3",
   "version": "3.12.7"
  }
 },
 "nbformat": 4,
 "nbformat_minor": 5
}
